{
 "cells": [
  {
   "cell_type": "code",
   "execution_count": 1,
   "id": "eacba639",
   "metadata": {},
   "outputs": [],
   "source": [
    "import cv2\n",
    "import numpy as np\n"
   ]
  },
  {
   "cell_type": "code",
   "execution_count": 33,
   "id": "55b0f280",
   "metadata": {},
   "outputs": [
    {
     "data": {
      "text/plain": [
       "30"
      ]
     },
     "execution_count": 33,
     "metadata": {},
     "output_type": "execute_result"
    }
   ],
   "source": [
    "main_image = cv2.imread('main_image.PNG')\n",
    "template_image = cv2.imread('Memory_Monk_1.PNG')\n",
    "\n",
    "\n",
    "template_image.shape[0]"
   ]
  },
  {
   "cell_type": "code",
   "execution_count": 29,
   "id": "28bbdb72",
   "metadata": {},
   "outputs": [],
   "source": [
    "main_gray = cv2.cvtColor(main_image, cv2.COLOR_BGR2GRAY)\n",
    "\n",
    "template_gray = cv2.cvtColor(template_image, cv2.COLOR_BGR2GRAY)\n"
   ]
  },
  {
   "cell_type": "markdown",
   "id": "c8f222f1",
   "metadata": {},
   "source": [
    "<h1 style=\"font-size:20px; font-family: Arial, sans-serif;\"> Built In Function matchTemplate each elements in the array corresponds to a specific location of the main image. It represents the matching score at the first location. So higher the real number in the array the better </h1>"
   ]
  },
  {
   "cell_type": "code",
   "execution_count": 14,
   "id": "d716e208",
   "metadata": {},
   "outputs": [
    {
     "data": {
      "text/plain": [
       "array([0.07746135, 0.08419016, 0.11198124, ..., 0.23587725, 0.26193964,\n",
       "       0.253707  ], dtype=float32)"
      ]
     },
     "execution_count": 14,
     "metadata": {},
     "output_type": "execute_result"
    }
   ],
   "source": [
    "result = cv2.matchTemplate(main_gray, template_gray, cv2.TM_CCOEFF_NORMED)\n",
    "result[0]"
   ]
  },
  {
   "cell_type": "markdown",
   "id": "7e067289",
   "metadata": {},
   "source": [
    "<h1 style=\"font-size:20px; font-family: Arial, sans-serif;\"> np.where() function to find the indices or positions in the array where the matching scores are above a certain threshold. This helps you identify the locations in the main image where the template image has a strong match or similarity.</h1>"
   ]
  },
  {
   "cell_type": "code",
   "execution_count": 17,
   "id": "ee624fb7",
   "metadata": {},
   "outputs": [
    {
     "data": {
      "text/plain": [
       "(array([571, 573], dtype=int64), array([336, 699], dtype=int64))"
      ]
     },
     "execution_count": 17,
     "metadata": {},
     "output_type": "execute_result"
    }
   ],
   "source": [
    "threshold = 0.80\n",
    "locations = np.where(result >= threshold )\n",
    "locations"
   ]
  },
  {
   "cell_type": "markdown",
   "id": "4dc41144",
   "metadata": {},
   "source": [
    "<h1 style=\"font-size:20px; font-family: Arial, sans-serif;\"> cv2.minMaxloc() built in function. We're using this to draw rect   \n",
    "\n",
    "\n",
    "\n",
    "    \n",
    "    \n",
    "    \n",
    "    \n",
    "</h1>"
   ]
  },
  {
   "cell_type": "code",
   "execution_count": 21,
   "id": "5655c02e",
   "metadata": {
    "scrolled": true
   },
   "outputs": [
    {
     "name": "stdout",
     "output_type": "stream",
     "text": [
      "min_val -0.4540706276893616 max_val 0.999999463558197 min_loc (1108, 309) max_loc (336, 571)\n"
     ]
    }
   ],
   "source": [
    "min_val, max_val, min_loc, max_loc = cv2.minMaxLoc(result)\n",
    "print('min_val {}'.format(min_val),'max_val {}'.format(max_val),'min_loc {}'.format(min_loc),'max_loc {}'.format(max_loc))"
   ]
  },
  {
   "cell_type": "code",
   "execution_count": 34,
   "id": "7b5a4201",
   "metadata": {},
   "outputs": [],
   "source": [
    "top_left = max_loc  \n",
    "bottom_right = (top_left[0] + template_image.shape[0] , top_left[1] + template_image.shape[0] )"
   ]
  },
  {
   "cell_type": "code",
   "execution_count": 26,
   "id": "cfa3f5ee",
   "metadata": {},
   "outputs": [],
   "source": [
    "#example \n",
    "\n",
    "#import cv2\n",
    "\n",
    "#cv2.rectangle(img, (x1, y1), (x2, y2), (255,0,0), 2)\n",
    "\n",
    "\n",
    "#   x1,y1------\n",
    "#   |          |\n",
    "#   |          |\n",
    "#   |          |\n",
    "#   --------x2,y2         '''\n",
    "    "
   ]
  },
  {
   "cell_type": "code",
   "execution_count": 43,
   "id": "7be7a618",
   "metadata": {},
   "outputs": [],
   "source": [
    "bounding_box = cv2.rectangle(main_image,top_left,bottom_right,(255,0 , 0), 1)"
   ]
  },
  {
   "cell_type": "code",
   "execution_count": 44,
   "id": "08b5edf7",
   "metadata": {},
   "outputs": [],
   "source": [
    "cv2.imshow('Matching Result', main_image)\n",
    "cv2.waitKey(0)\n",
    "cv2.destroyAllWindows()"
   ]
  },
  {
   "cell_type": "code",
   "execution_count": null,
   "id": "8139d67f",
   "metadata": {},
   "outputs": [],
   "source": [
    "##To Do this "
   ]
  },
  {
   "cell_type": "code",
   "execution_count": null,
   "id": "d4e7d812",
   "metadata": {},
   "outputs": [],
   "source": []
  },
  {
   "cell_type": "code",
   "execution_count": null,
   "id": "1ead26f8",
   "metadata": {},
   "outputs": [],
   "source": []
  }
 ],
 "metadata": {
  "kernelspec": {
   "display_name": "Python 3 (ipykernel)",
   "language": "python",
   "name": "python3"
  },
  "language_info": {
   "codemirror_mode": {
    "name": "ipython",
    "version": 3
   },
   "file_extension": ".py",
   "mimetype": "text/x-python",
   "name": "python",
   "nbconvert_exporter": "python",
   "pygments_lexer": "ipython3",
   "version": "3.10.9"
  }
 },
 "nbformat": 4,
 "nbformat_minor": 5
}
