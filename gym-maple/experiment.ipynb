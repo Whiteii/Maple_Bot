{
 "cells": [
  {
   "cell_type": "code",
   "execution_count": 1,
   "id": "b6b70b18",
   "metadata": {},
   "outputs": [],
   "source": [
    "import gym_maple \n",
    "import gym"
   ]
  },
  {
   "cell_type": "code",
   "execution_count": 2,
   "id": "919aece9",
   "metadata": {},
   "outputs": [],
   "source": [
    "env = gym.make('gym_maple/MapleEnv-v0')"
   ]
  },
  {
   "cell_type": "code",
   "execution_count": 3,
   "id": "81e10fcc",
   "metadata": {},
   "outputs": [
    {
     "data": {
      "text/plain": [
       "<OrderEnforcing<PassiveEnvChecker<MapleEnv<gym_maple/MapleEnv-v0>>>>"
      ]
     },
     "execution_count": 3,
     "metadata": {},
     "output_type": "execute_result"
    }
   ],
   "source": [
    "env"
   ]
  },
  {
   "cell_type": "code",
   "execution_count": 4,
   "id": "524df32f",
   "metadata": {},
   "outputs": [
    {
     "data": {
      "text/plain": [
       "Dict('Death By World Reaver': Discrete(50), 'Flash Blade': Discrete(2), 'Memory_Monk_Death_Left': Discrete(20), 'Memory_Monk_Death_Right': Discrete(20), 'Memory_Monk_Facing_Left': Discrete(51), 'Memory_Monk_Facing_Right': Discrete(51), 'Puncture': Discrete(1), 'Raging Blow': Discrete(1), 'Skill illusion': Discrete(2), 'World Reaver': Discrete(2))"
      ]
     },
     "execution_count": 4,
     "metadata": {},
     "output_type": "execute_result"
    }
   ],
   "source": [
    "env.observation_space"
   ]
  },
  {
   "cell_type": "code",
   "execution_count": 5,
   "id": "0ee47bd9",
   "metadata": {},
   "outputs": [
    {
     "name": "stderr",
     "output_type": "stream",
     "text": [
      "c:\\Users\\liang\\anaconda3\\lib\\site-packages\\gym\\utils\\passive_env_checker.py:174: UserWarning: \u001b[33mWARN: Future gym versions will require that `Env.reset` can be passed a `seed` instead of using `Env.seed` for resetting the environment random number generator.\u001b[0m\n",
      "  logger.warn(\n",
      "c:\\Users\\liang\\anaconda3\\lib\\site-packages\\gym\\utils\\passive_env_checker.py:187: UserWarning: \u001b[33mWARN: Future gym versions will require that `Env.reset` can be passed `options` to allow the environment initialisation to be passed additional information.\u001b[0m\n",
      "  logger.warn(\n"
     ]
    },
    {
     "data": {
      "text/plain": [
       "({'Flash Blade': 0,\n",
       "  'Puncture': 0,\n",
       "  'Skill illusion': 0,\n",
       "  'Raging Blow': 0,\n",
       "  'World Reaver': 0,\n",
       "  'Memory_Monk_Facing_Right': 0,\n",
       "  'Memory_Monk_Facing_Left': 0,\n",
       "  'Memory_Monk_Death_Right': 0,\n",
       "  'Memory_Monk_Death_Left': 0,\n",
       "  'Death By World Reaver': 0},\n",
       " {})"
      ]
     },
     "execution_count": 5,
     "metadata": {},
     "output_type": "execute_result"
    }
   ],
   "source": [
    "env.reset()"
   ]
  },
  {
   "cell_type": "code",
   "execution_count": 6,
   "id": "304b8bc6",
   "metadata": {},
   "outputs": [
    {
     "name": "stdout",
     "output_type": "stream",
     "text": [
      "{False}\n"
     ]
    },
    {
     "name": "stderr",
     "output_type": "stream",
     "text": [
      "c:\\Users\\liang\\anaconda3\\lib\\site-packages\\gym\\utils\\passive_env_checker.py:219: DeprecationWarning: \u001b[33mWARN: Core environment is written in old step API which returns one bool instead of two. It is recommended to rewrite the environment with new step API. \u001b[0m\n",
      "  logger.deprecation(\n",
      "c:\\Users\\liang\\anaconda3\\lib\\site-packages\\gym\\utils\\passive_env_checker.py:225: DeprecationWarning: `np.bool8` is a deprecated alias for `np.bool_`.  (Deprecated NumPy 1.24)\n",
      "  if not isinstance(done, (bool, np.bool8)):\n",
      "c:\\Users\\liang\\anaconda3\\lib\\site-packages\\gym\\utils\\passive_env_checker.py:226: UserWarning: \u001b[33mWARN: Expects `done` signal to be a boolean, actual type: <class 'dict'>\u001b[0m\n",
      "  logger.warn(\n",
      "c:\\Users\\liang\\anaconda3\\lib\\site-packages\\gym\\utils\\passive_env_checker.py:252: UserWarning: \u001b[33mWARN: The reward returned by `step()` must be a float, int, np.integer or np.floating, actual type: <class 'dict'>\u001b[0m\n",
      "  logger.warn(\n"
     ]
    },
    {
     "data": {
      "text/plain": [
       "({'Flash Blade': 0,\n",
       "  'Puncture': 0,\n",
       "  'Skill illusion': 0,\n",
       "  'Raging Blow': 0,\n",
       "  'World Reaver': 0,\n",
       "  'Memory_Monk_Facing_Right': 0,\n",
       "  'Memory_Monk_Facing_Left': 0,\n",
       "  'Memory_Monk_Death_Right': 0,\n",
       "  'Memory_Monk_Death_Left': 0,\n",
       "  'Death By World Reaver': 0},\n",
       " {},\n",
       " {},\n",
       " {})"
      ]
     },
     "execution_count": 6,
     "metadata": {},
     "output_type": "execute_result"
    }
   ],
   "source": [
    "env.step({'Sword Illusion.PNG' == 1})"
   ]
  },
  {
   "cell_type": "code",
   "execution_count": 1,
   "id": "612706e7",
   "metadata": {},
   "outputs": [],
   "source": [
    "from time import time"
   ]
  },
  {
   "cell_type": "code",
   "execution_count": 11,
   "id": "0d29bd1d",
   "metadata": {},
   "outputs": [
    {
     "data": {
      "text/plain": [
       "1688398855.1192555"
      ]
     },
     "execution_count": 11,
     "metadata": {},
     "output_type": "execute_result"
    }
   ],
   "source": [
    "time"
   ]
  },
  {
   "cell_type": "code",
   "execution_count": 12,
   "id": "9e1d8c0e",
   "metadata": {},
   "outputs": [
    {
     "data": {
      "text/plain": [
       "1688398855.1192555"
      ]
     },
     "execution_count": 12,
     "metadata": {},
     "output_type": "execute_result"
    }
   ],
   "source": [
    "time"
   ]
  },
  {
   "cell_type": "code",
   "execution_count": 13,
   "id": "9c0d254a",
   "metadata": {},
   "outputs": [
    {
     "data": {
      "text/plain": [
       "1688398857.1192555"
      ]
     },
     "execution_count": 13,
     "metadata": {},
     "output_type": "execute_result"
    }
   ],
   "source": [
    "time + 2"
   ]
  },
  {
   "cell_type": "code",
   "execution_count": null,
   "id": "73f96bab",
   "metadata": {},
   "outputs": [],
   "source": []
  },
  {
   "cell_type": "code",
   "execution_count": null,
   "id": "ec709088",
   "metadata": {},
   "outputs": [],
   "source": []
  }
 ],
 "metadata": {
  "kernelspec": {
   "display_name": "Python 3 (ipykernel)",
   "language": "python",
   "name": "python3"
  },
  "language_info": {
   "codemirror_mode": {
    "name": "ipython",
    "version": 3
   },
   "file_extension": ".py",
   "mimetype": "text/x-python",
   "name": "python",
   "nbconvert_exporter": "python",
   "pygments_lexer": "ipython3",
   "version": "3.10.9"
  }
 },
 "nbformat": 4,
 "nbformat_minor": 5
}
