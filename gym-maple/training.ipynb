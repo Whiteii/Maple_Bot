{
 "cells": [
  {
   "cell_type": "code",
   "execution_count": 66,
   "metadata": {},
   "outputs": [],
   "source": [
    "from collections import deque \n",
    "import numpy as np \n",
    "replay_memory = deque(maxlen=2000)\n",
    "import tensorflow as tf\n",
    "from tensorflow import keras "
   ]
  },
  {
   "cell_type": "code",
   "execution_count": 67,
   "metadata": {},
   "outputs": [],
   "source": [
    "model = keras.models.Sequential([\n",
    "    keras.layers.Dense(128, activation=\"elu\", input_shape=[3]),\n",
    "    keras.layers.Dense(64, activation=\"elu\"),\n",
    "    keras.layers.Dense(4)\n",
    "])"
   ]
  },
  {
   "cell_type": "code",
   "execution_count": 68,
   "metadata": {},
   "outputs": [],
   "source": [
    "# Example 3\n",
    "state3 = [0.5, 0.6, 0.7]\n",
    "action3 = 2\n",
    "reward3 = 0.1\n",
    "next_state3 = [0.6, 0.7, 0.8]\n",
    "done3 = False\n",
    "truncated3 = True\n",
    "\n",
    "experience3 = (state3, action3, reward3, next_state3, done3, truncated3)\n",
    "replay_memory.append(experience3)\n",
    "\n",
    "# Example 4\n",
    "state4 = [0.7, 0.8, 0.9]\n",
    "action4 = 1\n",
    "reward4 = 0.8\n",
    "next_state4 = [0.8, 0.9, 1.0]\n",
    "done4 = False\n",
    "truncated4 = False\n",
    "\n",
    "experience4 = (state4, action4, reward4, next_state4, done4, truncated4)\n",
    "replay_memory.append(experience4)\n",
    "\n",
    "# Example 5\n",
    "state5 = [1.0, 1.1, 1.2]\n",
    "action5 = 0\n",
    "reward5 = -0.5\n",
    "next_state5 = [1.1, 1.2, 1.3]\n",
    "done5 = True\n",
    "truncated5 = False\n",
    "\n",
    "experience5 = (state5, action5, reward5, next_state5, done5, truncated5)\n",
    "replay_memory.append(experience5)\n",
    "\n",
    "# Example 6\n",
    "state6 = [1.2, 1.3, 1.4]\n",
    "action6 = 2\n",
    "reward6 = 0.3\n",
    "next_state6 = [1.3, 1.4, 1.5]\n",
    "done6 = False\n",
    "truncated6 = True\n",
    "\n",
    "experience6 = (state6, action6, reward6, next_state6, done6, truncated6)\n",
    "replay_memory.append(experience6)\n",
    "\n",
    "# Example 7\n",
    "state7 = [1.5, 1.6, 1.7]\n",
    "action7 = 1\n",
    "reward7 = 0.2\n",
    "next_state7 = [1.6, 1.7, 1.8]\n",
    "done7 = True\n",
    "truncated7 = False\n",
    "\n",
    "experience7 = (state7, action7, reward7, next_state7, done7, truncated7)\n",
    "replay_memory.append(experience7)"
   ]
  },
  {
   "cell_type": "code",
   "execution_count": 69,
   "metadata": {},
   "outputs": [],
   "source": [
    "def sample_experiences(batch_size):\n",
    "    indices = np.random.randint(len(replay_memory), size = batch_size)\n",
    "    batch = [replay_memory[index] for index in indices] \n",
    "    return [   \n",
    "\n",
    "        np.array([experience[field_index] for experience in batch]) \n",
    "        for field_index in range(6)\n",
    "    ] "
   ]
  },
  {
   "cell_type": "code",
   "execution_count": 88,
   "metadata": {},
   "outputs": [],
   "source": [
    "states,actions,rewards,next_states,dones,truncateds = sample_experiences(3)\n"
   ]
  },
  {
   "cell_type": "code",
   "execution_count": 90,
   "metadata": {},
   "outputs": [
    {
     "data": {
      "text/plain": [
       "array([2, 1, 1])"
      ]
     },
     "execution_count": 90,
     "metadata": {},
     "output_type": "execute_result"
    }
   ],
   "source": [
    "actions"
   ]
  },
  {
   "cell_type": "code",
   "execution_count": 76,
   "metadata": {},
   "outputs": [
    {
     "name": "stdout",
     "output_type": "stream",
     "text": [
      "1/1 [==============================] - 0s 13ms/step\n"
     ]
    },
    {
     "data": {
      "text/plain": [
       "array([[-0.01003715, -0.13977265, -0.03586976, -0.11430354]],\n",
       "      dtype=float32)"
      ]
     },
     "execution_count": 76,
     "metadata": {},
     "output_type": "execute_result"
    }
   ],
   "source": [
    "b = model.predict(states[np.newaxis])\n",
    "b"
   ]
  },
  {
   "cell_type": "code",
   "execution_count": 78,
   "metadata": {},
   "outputs": [
    {
     "data": {
      "text/plain": [
       "(1, 4)"
      ]
     },
     "execution_count": 78,
     "metadata": {},
     "output_type": "execute_result"
    }
   ],
   "source": [
    "b.shape"
   ]
  },
  {
   "cell_type": "code",
   "execution_count": 77,
   "metadata": {},
   "outputs": [
    {
     "data": {
      "text/plain": [
       "<tf.Tensor: shape=(3, 4), dtype=float32, numpy=\n",
       "array([[0., 0., 1., 0.],\n",
       "       [0., 1., 0., 0.],\n",
       "       [0., 1., 0., 0.]], dtype=float32)>"
      ]
     },
     "execution_count": 77,
     "metadata": {},
     "output_type": "execute_result"
    }
   ],
   "source": [
    "a = tf.one_hot(rewards, outputs)\n",
    "a\n"
   ]
  },
  {
   "cell_type": "code",
   "execution_count": 79,
   "metadata": {},
   "outputs": [
    {
     "data": {
      "text/plain": [
       "TensorShape([3, 4])"
      ]
     },
     "execution_count": 79,
     "metadata": {},
     "output_type": "execute_result"
    }
   ],
   "source": [
    "a.shape"
   ]
  },
  {
   "cell_type": "code",
   "execution_count": 85,
   "metadata": {},
   "outputs": [
    {
     "data": {
      "text/plain": [
       "<tf.Tensor: shape=(3, 4), dtype=float32, numpy=\n",
       "array([[-0.        , -0.        , -0.03586976, -0.        ],\n",
       "       [-0.        , -0.13977265, -0.        , -0.        ],\n",
       "       [-0.        , -0.13977265, -0.        , -0.        ]],\n",
       "      dtype=float32)>"
      ]
     },
     "execution_count": 85,
     "metadata": {},
     "output_type": "execute_result"
    }
   ],
   "source": [
    "b * a"
   ]
  },
  {
   "cell_type": "code",
   "execution_count": 92,
   "metadata": {},
   "outputs": [
    {
     "data": {
      "text/plain": [
       "<tf.Tensor: shape=(3, 1), dtype=float32, numpy=\n",
       "array([[-0.03586976],\n",
       "       [-0.13977265],\n",
       "       [-0.13977265]], dtype=float32)>"
      ]
     },
     "execution_count": 92,
     "metadata": {},
     "output_type": "execute_result"
    }
   ],
   "source": [
    "Q_values = tf.reduce_sum(b * a, axis=1, keepdims=True)\n",
    "Q_values"
   ]
  },
  {
   "cell_type": "code",
   "execution_count": 94,
   "metadata": {},
   "outputs": [],
   "source": [
    "possible_actions = [[0,1,2],[0,2],[1]]\n"
   ]
  },
  {
   "cell_type": "code",
   "execution_count": 100,
   "metadata": {},
   "outputs": [],
   "source": [
    "Q_table = np.full((3, 3), -np.inf)"
   ]
  },
  {
   "cell_type": "code",
   "execution_count": 98,
   "metadata": {},
   "outputs": [
    {
     "name": "stdout",
     "output_type": "stream",
     "text": [
      "[0, 1, 2]\n",
      "[0, 2]\n",
      "[1]\n"
     ]
    }
   ],
   "source": [
    "for state, actions in enumerate(possible_actions):\n",
    "    print(actions)\n",
    "    Q_table[state][actions] = 0"
   ]
  },
  {
   "cell_type": "code",
   "execution_count": 104,
   "metadata": {},
   "outputs": [],
   "source": [
    "Q_table[0][[0,1]] = 2 "
   ]
  },
  {
   "cell_type": "code",
   "execution_count": 105,
   "metadata": {},
   "outputs": [
    {
     "data": {
      "text/plain": [
       "array([[  2.,   2., -inf],\n",
       "       [-inf, -inf, -inf],\n",
       "       [-inf, -inf, -inf]])"
      ]
     },
     "execution_count": 105,
     "metadata": {},
     "output_type": "execute_result"
    }
   ],
   "source": [
    "Q_table"
   ]
  },
  {
   "cell_type": "code",
   "execution_count": 99,
   "metadata": {},
   "outputs": [
    {
     "data": {
      "text/plain": [
       "array([0., 0., 0.])"
      ]
     },
     "execution_count": 99,
     "metadata": {},
     "output_type": "execute_result"
    }
   ],
   "source": [
    "Q_table[0][[0,1,2]]"
   ]
  },
  {
   "cell_type": "code",
   "execution_count": 96,
   "metadata": {},
   "outputs": [
    {
     "data": {
      "text/plain": [
       "array([[  0.,   0.,   0.],\n",
       "       [  0., -inf,   0.],\n",
       "       [-inf,   0., -inf]])"
      ]
     },
     "execution_count": 96,
     "metadata": {},
     "output_type": "execute_result"
    }
   ],
   "source": [
    "Q_table"
   ]
  }
 ],
 "metadata": {
  "kernelspec": {
   "display_name": "maple_vision",
   "language": "python",
   "name": "python3"
  },
  "language_info": {
   "codemirror_mode": {
    "name": "ipython",
    "version": 3
   },
   "file_extension": ".py",
   "mimetype": "text/x-python",
   "name": "python",
   "nbconvert_exporter": "python",
   "pygments_lexer": "ipython3",
   "version": "3.10.13"
  },
  "orig_nbformat": 4
 },
 "nbformat": 4,
 "nbformat_minor": 2
}
