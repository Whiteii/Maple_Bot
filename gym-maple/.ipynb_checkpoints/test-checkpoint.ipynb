{
 "cells": [
  {
   "cell_type": "code",
   "execution_count": null,
   "metadata": {},
   "outputs": [
    {
     "ename": "ModuleNotFoundError",
     "evalue": "No module named 'Maple_Env'",
     "output_type": "error",
     "traceback": [
      "\u001b[1;31m---------------------------------------------------------------------------\u001b[0m",
      "\u001b[1;31mModuleNotFoundError\u001b[0m                       Traceback (most recent call last)",
      "Cell \u001b[1;32mIn[8], line 1\u001b[0m\n\u001b[1;32m----> 1\u001b[0m \u001b[39mfrom\u001b[39;00m \u001b[39mMaple_Env\u001b[39;00m \u001b[39mimport\u001b[39;00m BasicEnv\n",
      "\u001b[1;31mModuleNotFoundError\u001b[0m: No module named 'Maple_Env'"
     ]
    }
   ],
   "source": [
    "from Maple_Env import BasicEnv"
   ]
  },
  {
   "cell_type": "code",
   "execution_count": null,
   "metadata": {},
   "outputs": [],
   "source": [
    "env = BasicEnv()"
   ]
  },
  {
   "cell_type": "code",
   "execution_count": null,
   "metadata": {},
   "outputs": [
    {
     "data": {
      "text/plain": [
       "Discrete(7)"
      ]
     },
     "execution_count": 3,
     "metadata": {},
     "output_type": "execute_result"
    }
   ],
   "source": [
    "env.action_space"
   ]
  },
  {
   "cell_type": "code",
   "execution_count": null,
   "metadata": {},
   "outputs": [
    {
     "data": {
      "text/plain": [
       "Discrete(3)"
      ]
     },
     "execution_count": 4,
     "metadata": {},
     "output_type": "execute_result"
    }
   ],
   "source": [
    "env.observation_space"
   ]
  },
  {
   "cell_type": "code",
   "execution_count": null,
   "metadata": {},
   "outputs": [
    {
     "data": {
      "text/plain": [
       "['C:\\\\Users\\\\liang\\\\OneDrive\\\\Desktop\\\\Maple_Bot\\\\Asset\\\\Hero_Skills\\\\Flash Blade.PNG',\n",
       " 'C:\\\\Users\\\\liang\\\\OneDrive\\\\Desktop\\\\Maple_Bot\\\\Asset\\\\Hero_Skills\\\\Puncture.PNG',\n",
       " 'C:\\\\Users\\\\liang\\\\OneDrive\\\\Desktop\\\\Maple_Bot\\\\Asset\\\\Hero_Skills\\\\Raging Blow.PNG',\n",
       " 'C:\\\\Users\\\\liang\\\\OneDrive\\\\Desktop\\\\Maple_Bot\\\\Asset\\\\Hero_Skills\\\\Sword Illusion.PNG']"
      ]
     },
     "execution_count": 2,
     "metadata": {},
     "output_type": "execute_result"
    }
   ],
   "source": [
    "import glob\n",
    "template_images = [img for img in glob.glob(r'C:\\Users\\liang\\OneDrive\\Desktop\\Maple_Bot\\Asset\\Hero_Skills\\*.png')] \n",
    "\n",
    "template_images"
   ]
  },
  {
   "cell_type": "code",
   "execution_count": null,
   "metadata": {},
   "outputs": [
    {
     "name": "stdout",
     "output_type": "stream",
     "text": [
      "Flash Blade.PNG 1\n",
      "Puncture.PNG 1\n",
      "Raging Blow.PNG 1\n",
      "Sword Illusion.PNG 1\n",
      "WorldReaver.PNG 1\n",
      "Memory_Monk_R.PNG 3\n"
     ]
    }
   ],
   "source": [
    "data = {\n",
    "    'Flash Blade.PNG': 1,\n",
    "    'Puncture.PNG': 1,\n",
    "    'Raging Blow.PNG': 1,\n",
    "    'Sword Illusion.PNG': 1,\n",
    "    'WorldReaver.PNG': 1,\n",
    "    'Memory_Monk_R.PNG': 3\n",
    "}\n",
    "\n",
    "for key, value in data.items():\n",
    "    print(key, value)"
   ]
  },
  {
   "cell_type": "code",
   "execution_count": 1,
   "metadata": {},
   "outputs": [],
   "source": [
    "\n",
    "import gym\n",
    "import gym_maple"
   ]
  },
  {
   "cell_type": "code",
   "execution_count": 2,
   "metadata": {},
   "outputs": [],
   "source": [
    "import gym_maple\n",
    "import gym\n",
    "\n",
    "env = gym.make('gym_maple/MapleEnv-v0')\n"
   ]
  },
  {
   "cell_type": "code",
   "execution_count": 3,
   "metadata": {},
   "outputs": [
    {
     "name": "stdout",
     "output_type": "stream",
     "text": [
      "Dict('Death By World Reaver': Discrete(50), 'Flash Blade': Discrete(2), 'Memory_Monk_Death_Left': Discrete(20), 'Memory_Monk_Death_Right': Discrete(20), 'Memory_Monk_Facing_Left': Discrete(51), 'Memory_Monk_Facing_Right': Discrete(51), 'Puncture': Discrete(1), 'Raging Blow': Discrete(1), 'Skill illusion': Discrete(2), 'World Reaver': Discrete(2))\n"
     ]
    }
   ],
   "source": [
    "print(env.observation_space) \n"
   ]
  },
  {
   "cell_type": "code",
   "execution_count": 4,
   "metadata": {},
   "outputs": [
    {
     "name": "stdout",
     "output_type": "stream",
     "text": [
      "{'observation': 1, 'reward': 2, 'done': False, 'info': {}}\n"
     ]
    },
    {
     "name": "stderr",
     "output_type": "stream",
     "text": [
      "C:\\Users\\liang\\anaconda3\\lib\\site-packages\\gym\\utils\\passive_env_checker.py:174: UserWarning: \u001b[33mWARN: Future gym versions will require that `Env.reset` can be passed a `seed` instead of using `Env.seed` for resetting the environment random number generator.\u001b[0m\n",
      "  logger.warn(\n",
      "C:\\Users\\liang\\anaconda3\\lib\\site-packages\\gym\\utils\\passive_env_checker.py:187: UserWarning: \u001b[33mWARN: Future gym versions will require that `Env.reset` can be passed `options` to allow the environment initialisation to be passed additional information.\u001b[0m\n",
      "  logger.warn(\n",
      "C:\\Users\\liang\\anaconda3\\lib\\site-packages\\gym\\utils\\passive_env_checker.py:195: UserWarning: \u001b[33mWARN: The result returned by `env.reset()` was not a tuple of the form `(obs, info)`, where `obs` is a observation and `info` is a dictionary containing additional information. Actual type: `<class 'dict'>`\u001b[0m\n",
      "  logger.warn(\n"
     ]
    }
   ],
   "source": [
    "print(env.reset())"
   ]
  },
  {
   "cell_type": "code",
   "execution_count": 5,
   "metadata": {},
   "outputs": [],
   "source": [
    "#env.step()"
   ]
  },
  {
   "cell_type": "code",
   "execution_count": 6,
   "metadata": {},
   "outputs": [],
   "source": [
    "d = {'Flash Blade.PNG': 1, 'Puncture.PNG': 1, 'Raging Blow.PNG': 1, 'Sword Illusion.PNG': 0, 'WorldReaver.PNG': 1, 'Memory_Monk_L.PNG': 2, 'Memory_Monk_R.PNG': 1}"
   ]
  },
  {
   "cell_type": "code",
   "execution_count": 7,
   "metadata": {},
   "outputs": [
    {
     "data": {
      "text/plain": [
       "1"
      ]
     },
     "execution_count": 7,
     "metadata": {},
     "output_type": "execute_result"
    }
   ],
   "source": [
    "d['Flash Blade.PNG']"
   ]
  },
  {
   "cell_type": "code",
   "execution_count": 35,
   "metadata": {},
   "outputs": [
    {
     "name": "stdout",
     "output_type": "stream",
     "text": [
      "5\n"
     ]
    },
    {
     "data": {
      "text/plain": [
       "5"
      ]
     },
     "execution_count": 35,
     "metadata": {},
     "output_type": "execute_result"
    }
   ],
   "source": [
    "env.step(d)"
   ]
  },
  {
   "cell_type": "code",
   "execution_count": null,
   "metadata": {},
   "outputs": [],
   "source": []
  },
  {
   "cell_type": "code",
   "execution_count": null,
   "metadata": {},
   "outputs": [],
   "source": []
  }
 ],
 "metadata": {
  "kernelspec": {
   "display_name": "Python 3 (ipykernel)",
   "language": "python",
   "name": "python3"
  },
  "language_info": {
   "codemirror_mode": {
    "name": "ipython",
    "version": 3
   },
   "file_extension": ".py",
   "mimetype": "text/x-python",
   "name": "python",
   "nbconvert_exporter": "python",
   "pygments_lexer": "ipython3",
   "version": "3.10.9"
  }
 },
 "nbformat": 4,
 "nbformat_minor": 2
}
