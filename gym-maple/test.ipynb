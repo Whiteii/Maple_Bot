{
 "cells": [
  {
   "cell_type": "code",
   "execution_count": 2,
   "metadata": {},
   "outputs": [],
   "source": [
    "import numpy as np\n",
    "from collections import deque\n",
    "\n",
    "# Sample deque data\n",
    "data = deque([(np.array([0, 0]), [np.array(0), np.array(0)], [3], [0]),\n",
    "              (np.array([0, 0]), [np.array(0), np.array(0)], [3], [0]),\n",
    "              (np.array([0, 0]), [np.array(0), np.array(0)], [3], [0]),\n",
    "              (np.array([0, 0]), [np.array(0), np.array(0)], [3], [0]),\n",
    "              (np.array([0, 0]), [np.array(0), np.array(0)], [3], [0]),\n",
    "              (np.array([0, 130.29965464]), [np.array(0), np.array(130.29965464)], [3], [0]),\n",
    "              (np.array([0, 131.79529582]), [np.array(0), np.array(131.79529582)], [3], [0]),\n",
    "              (np.array([0, 131.79529582]), [np.array(0), np.array(131.79529582)], [3], [1]),\n",
    "              (np.array([0, 0]), [np.array(0), np.array(0)], [3], [0]),\n",
    "              (np.array([0, 137.90576493]), [np.array(0), np.array(137.90576493)], [3], [1]),\n",
    "              (np.array([0, 0]), [np.array(0), np.array(0)], [3], [0])], maxlen=2000)\n",
    "\n",
    "\n"
   ]
  },
  {
   "cell_type": "code",
   "execution_count": null,
   "metadata": {},
   "outputs": [],
   "source": []
  },
  {
   "cell_type": "code",
   "execution_count": 4,
   "metadata": {},
   "outputs": [
    {
     "data": {
      "text/plain": [
       "(array([0, 0]), [array(0), array(0)], [3], [0])"
      ]
     },
     "execution_count": 4,
     "metadata": {},
     "output_type": "execute_result"
    }
   ],
   "source": [
    "data[0]"
   ]
  }
 ],
 "metadata": {
  "kernelspec": {
   "display_name": "base",
   "language": "python",
   "name": "python3"
  },
  "language_info": {
   "codemirror_mode": {
    "name": "ipython",
    "version": 3
   },
   "file_extension": ".py",
   "mimetype": "text/x-python",
   "name": "python",
   "nbconvert_exporter": "python",
   "pygments_lexer": "ipython3",
   "version": "3.10.9"
  },
  "orig_nbformat": 4
 },
 "nbformat": 4,
 "nbformat_minor": 2
}
