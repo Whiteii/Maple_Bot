{
 "cells": [
  {
   "cell_type": "code",
   "execution_count": 1,
   "metadata": {},
   "outputs": [],
   "source": [
    "from Maple_Env import BasicEnv"
   ]
  },
  {
   "cell_type": "code",
   "execution_count": 2,
   "metadata": {},
   "outputs": [],
   "source": [
    "env = BasicEnv()"
   ]
  },
  {
   "cell_type": "code",
   "execution_count": 3,
   "metadata": {},
   "outputs": [
    {
     "data": {
      "text/plain": [
       "Discrete(7)"
      ]
     },
     "execution_count": 3,
     "metadata": {},
     "output_type": "execute_result"
    }
   ],
   "source": [
    "env.action_space"
   ]
  },
  {
   "cell_type": "code",
   "execution_count": 4,
   "metadata": {},
   "outputs": [
    {
     "data": {
      "text/plain": [
       "Discrete(3)"
      ]
     },
     "execution_count": 4,
     "metadata": {},
     "output_type": "execute_result"
    }
   ],
   "source": [
    "env.observation_space"
   ]
  },
  {
   "cell_type": "code",
   "execution_count": 2,
   "metadata": {},
   "outputs": [
    {
     "data": {
      "text/plain": [
       "['C:\\\\Users\\\\liang\\\\OneDrive\\\\Desktop\\\\Maple_Bot\\\\Asset\\\\Hero_Skills\\\\Flash Blade.PNG',\n",
       " 'C:\\\\Users\\\\liang\\\\OneDrive\\\\Desktop\\\\Maple_Bot\\\\Asset\\\\Hero_Skills\\\\Puncture.PNG',\n",
       " 'C:\\\\Users\\\\liang\\\\OneDrive\\\\Desktop\\\\Maple_Bot\\\\Asset\\\\Hero_Skills\\\\Raging Blow.PNG',\n",
       " 'C:\\\\Users\\\\liang\\\\OneDrive\\\\Desktop\\\\Maple_Bot\\\\Asset\\\\Hero_Skills\\\\Sword Illusion.PNG']"
      ]
     },
     "execution_count": 2,
     "metadata": {},
     "output_type": "execute_result"
    }
   ],
   "source": [
    "import glob\n",
    "template_images = [img for img in glob.glob(r'C:\\Users\\liang\\OneDrive\\Desktop\\Maple_Bot\\Asset\\Hero_Skills\\*.png')] \n",
    "\n",
    "template_images"
   ]
  },
  {
   "cell_type": "code",
   "execution_count": null,
   "metadata": {},
   "outputs": [],
   "source": []
  },
  {
   "cell_type": "code",
   "execution_count": null,
   "metadata": {},
   "outputs": [],
   "source": []
  }
 ],
 "metadata": {
  "kernelspec": {
   "display_name": "base",
   "language": "python",
   "name": "python3"
  },
  "language_info": {
   "codemirror_mode": {
    "name": "ipython",
    "version": 3
   },
   "file_extension": ".py",
   "mimetype": "text/x-python",
   "name": "python",
   "nbconvert_exporter": "python",
   "pygments_lexer": "ipython3",
   "version": "3.10.9"
  },
  "orig_nbformat": 4
 },
 "nbformat": 4,
 "nbformat_minor": 2
}
