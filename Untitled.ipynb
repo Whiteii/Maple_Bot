{
 "cells": [
  {
   "cell_type": "code",
   "execution_count": 1,
   "id": "820293e5",
   "metadata": {},
   "outputs": [],
   "source": [
    "import cv2\n",
    "import numpy as np\n"
   ]
  },
  {
   "cell_type": "code",
   "execution_count": 2,
   "id": "5545aaed",
   "metadata": {},
   "outputs": [],
   "source": [
    "main_image = cv2.imread('main_image.PNG')\n",
    "template_image = cv2.imread('Memory_Monk_1.PNG')"
   ]
  },
  {
   "cell_type": "code",
   "execution_count": 3,
   "id": "47f126d0",
   "metadata": {},
   "outputs": [],
   "source": [
    "main_gray = cv2.cvtColor(main_image, cv2.COLOR_BGR2GRAY)\n",
    "template_gray = cv2.cvtColor(template_image, cv2.COLOR_BGR2GRAY)"
   ]
  },
  {
   "cell_type": "code",
   "execution_count": 4,
   "id": "dcd83e0f",
   "metadata": {},
   "outputs": [],
   "source": [
    "result = cv2.matchTemplate(main_gray, template_gray, cv2.TM_CCOEFF_NORMED)"
   ]
  },
  {
   "cell_type": "code",
   "execution_count": 5,
   "id": "cfc6621d",
   "metadata": {},
   "outputs": [],
   "source": [
    "min_val, max_val, min_loc, max_loc = cv2.minMaxLoc(result)\n"
   ]
  },
  {
   "cell_type": "code",
   "execution_count": 6,
   "id": "ed9d2111",
   "metadata": {},
   "outputs": [
    {
     "data": {
      "text/plain": [
       "-0.4540706276893616"
      ]
     },
     "execution_count": 6,
     "metadata": {},
     "output_type": "execute_result"
    }
   ],
   "source": [
    "min_val"
   ]
  },
  {
   "cell_type": "code",
   "execution_count": 7,
   "id": "c9eb39eb",
   "metadata": {},
   "outputs": [
    {
     "data": {
      "text/plain": [
       "0.999999463558197"
      ]
     },
     "execution_count": 7,
     "metadata": {},
     "output_type": "execute_result"
    }
   ],
   "source": [
    "max_val"
   ]
  },
  {
   "cell_type": "code",
   "execution_count": 8,
   "id": "760463f8",
   "metadata": {},
   "outputs": [
    {
     "data": {
      "text/plain": [
       "(1108, 309)"
      ]
     },
     "execution_count": 8,
     "metadata": {},
     "output_type": "execute_result"
    }
   ],
   "source": [
    "min_loc"
   ]
  },
  {
   "cell_type": "code",
   "execution_count": 9,
   "id": "1cef0eab",
   "metadata": {},
   "outputs": [
    {
     "data": {
      "text/plain": [
       "(336, 571)"
      ]
     },
     "execution_count": 9,
     "metadata": {},
     "output_type": "execute_result"
    }
   ],
   "source": [
    "max_loc"
   ]
  },
  {
   "cell_type": "code",
   "execution_count": null,
   "id": "4840ea79",
   "metadata": {},
   "outputs": [],
   "source": []
  },
  {
   "cell_type": "code",
   "execution_count": null,
   "id": "b82f28a3",
   "metadata": {},
   "outputs": [],
   "source": []
  },
  {
   "cell_type": "code",
   "execution_count": null,
   "id": "19921465",
   "metadata": {},
   "outputs": [],
   "source": []
  },
  {
   "cell_type": "code",
   "execution_count": null,
   "id": "8e1b23f5",
   "metadata": {},
   "outputs": [],
   "source": []
  },
  {
   "cell_type": "code",
   "execution_count": null,
   "id": "ad222b7d",
   "metadata": {},
   "outputs": [],
   "source": []
  },
  {
   "cell_type": "code",
   "execution_count": null,
   "id": "4025f58f",
   "metadata": {},
   "outputs": [],
   "source": []
  }
 ],
 "metadata": {
  "kernelspec": {
   "display_name": "Python 3 (ipykernel)",
   "language": "python",
   "name": "python3"
  },
  "language_info": {
   "codemirror_mode": {
    "name": "ipython",
    "version": 3
   },
   "file_extension": ".py",
   "mimetype": "text/x-python",
   "name": "python",
   "nbconvert_exporter": "python",
   "pygments_lexer": "ipython3",
   "version": "3.10.9"
  }
 },
 "nbformat": 4,
 "nbformat_minor": 5
}
